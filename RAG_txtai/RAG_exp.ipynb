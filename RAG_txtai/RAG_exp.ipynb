{
 "cells": [
  {
   "cell_type": "code",
   "execution_count": 179,
   "id": "f17b042d-8cca-4422-b9d5-39d672604c7f",
   "metadata": {},
   "outputs": [],
   "source": [
    "import os\n",
    "import re\n",
    "import string\n",
    "import PyPDF2 as pdf2, nltk, textract\n",
    "\n",
    "from pathlib import Path\n",
    "\n",
    "from txtai.embeddings import Embeddings\n",
    "from txtai.app import Application"
   ]
  },
  {
   "cell_type": "code",
   "execution_count": 180,
   "id": "d7541024-1b87-42a2-8daf-7e8a653dbff3",
   "metadata": {},
   "outputs": [],
   "source": [
    "config = Application.read(\"./app.yml\")\n",
    "embeddings = Embeddings(config[\"embeddings\"], content=True, autoid=\"uuid5\")\n",
    "\n",
    "# Can also use the config programmatically\n",
    "#embeddings = Embeddings({\n",
    "#    \"path\": \"sentence-transformers/all-MiniLM-L6-v2\",\n",
    "#    \"backend\": \"qdrant.Qdrant\",\n",
    "#})\n"
   ]
  },
  {
   "cell_type": "code",
   "execution_count": 181,
   "id": "dff4e57c-1272-4c5d-ae64-2105729caaf3",
   "metadata": {},
   "outputs": [
    {
     "name": "stderr",
     "output_type": "stream",
     "text": [
      "You have loaded an AWQ model on CPU and have a CUDA device available, make sure to set your model on a GPU device in order to run your model.\n",
      "Special tokens have been added in the vocabulary, make sure the associated word embeddings are fine-tuned or trained.\n"
     ]
    }
   ],
   "source": [
    "from txtai.pipeline import LLM\n",
    "\n",
    "# Create LLM\n",
    "llm = LLM(\"TheBloke/Mistral-7B-OpenOrca-AWQ\")"
   ]
  },
  {
   "cell_type": "code",
   "execution_count": 182,
   "id": "7e8b22ac-4853-46f2-884f-5ba80edc4517",
   "metadata": {},
   "outputs": [],
   "source": [
    "def stream(path):\n",
    "    id = 0\n",
    "    for f in sorted(os.listdir(path)):\n",
    "      fpath = os.path.join(path, f)\n",
    "\n",
    "    # Only accept documents\n",
    "    if f.endswith((\"pdf\")):\n",
    "      print(f\"Indexing {fpath}\")\n",
    "      with open (fpath, \"rb\") as f:\n",
    "        pdfreader = pdf2.PdfReader(f)\n",
    "        for index, page in enumerate(pdfreader.pages):\n",
    "        # page = pdfreader.pages[100]\n",
    "          page_text = page.extract_text()\n",
    "          for paragraph in page_text.split(\"\\n\\n\"):\n",
    "            cleaned = re.sub('\\s+',' ', paragraph)\n",
    "            if len(cleaned) > 1:\n",
    "              txt = { \"text\": cleaned, \"page_num\": index, \"book_name\": Path(fpath).name }\n",
    "              yield (id, txt)\n",
    "              id = id + 1\n",
    "\n"
   ]
  },
  {
   "cell_type": "code",
   "execution_count": 183,
   "id": "2f1eca84-5380-42a3-8362-82b89457ccae",
   "metadata": {},
   "outputs": [
    {
     "name": "stdout",
     "output_type": "stream",
     "text": [
      "Indexing docs/growth/The_Art_of_Work.pdf\n"
     ]
    }
   ],
   "source": [
    "embeddings.index(stream(\"docs/growth\"))"
   ]
  },
  {
   "cell_type": "code",
   "execution_count": 184,
   "id": "1ae9d6ec-cc7c-4fd8-bf28-7bc379a4fd60",
   "metadata": {},
   "outputs": [],
   "source": [
    "# Extractor prompt\n",
    "def no_rag(question):\n",
    "  prompt = f\"\"\"<|im_start|>system\n",
    "You are a friendly assistant. You answer questions from users.<|im_end|>\n",
    "<|im_start|>user\n",
    "{question} <|im_end|>\n",
    "<|im_start|>assistant\n",
    "\"\"\"\n",
    "  return llm(prompt, maxlength=4096, pad_token_id=32000)\n",
    "    \n",
    "def prompt_llm(question, text):\n",
    "  prompt = f\"\"\"<|im_start|>system\n",
    "  You are a friendly assistant. You answer questions from users.<|im_end|>\n",
    "  <|im_start|>user\n",
    "  Answer the following question using only the context below. Only include information specifically discussed.\n",
    "\n",
    "  question: {question}\n",
    "  context: {text} <|im_end|>\n",
    "  <|im_start|>assistant\n",
    "  \"\"\"\n",
    "\n",
    "  return llm(prompt, maxlength=4096, pad_token_id=32000)\n",
    "\n",
    "def context(prompt, ann_embeddings):\n",
    "  context =  \"\\n\".join(x[\"text\"] for x in ann_embeddings)\n",
    "  return context\n",
    "\n",
    "def rag(prompt):\n",
    "  ann_embeddings = embeddings.search(prompt)\n",
    "  return prompt_llm(prompt, context(prompt, ann_embeddings)), ann_embeddings"
   ]
  },
  {
   "cell_type": "code",
   "execution_count": 185,
   "id": "1a91351a-a3d2-4a7e-94ee-a911ecb109a7",
   "metadata": {},
   "outputs": [
    {
     "name": "stderr",
     "output_type": "stream",
     "text": [
      "Truncation was not explicitly activated but `max_length` is provided a specific value, please use `truncation=True` to explicitly truncate examples to max length. Defaulting to 'longest_first' truncation strategy. If you encode pairs of sequences (GLUE-style) with the tokenizer you can select this strategy more precisely by providing a specific strategy to `truncation`.\n"
     ]
    },
    {
     "name": "stdout",
     "output_type": "stream",
     "text": [
      "Discovering what you were meant to do can be a life-changing experience. Here are some steps to help you find your purpose:\n",
      "\n",
      "1. Reflect on your interests and passions: Think about the activities, hobbies, and subjects that genuinely excite you. These interests can give you clues about your purpose.\n",
      "\n",
      "2. Consider your strengths and talents: Assess your skills and abilities, and think about how you can use them to make a positive impact on the world.\n",
      "\n",
      "3. Analyze your past experiences: Look back at your life and identify patterns or events that have shaped your values and interests. These experiences can provide insights into your purpose.\n",
      "\n",
      "4. Seek inspiration: Read books, watch movies, or listen to podcasts about people who have found their purpose. This can help you gain perspective and inspiration.\n",
      "\n",
      "5. Set goals and take action: Once you have a general idea of what you want to do, set specific, achievable goals and take steps towards achieving them.\n",
      "\n",
      "6. Network and connect with others: Talk to people who are doing what you aspire to do. They can provide valuable insights and advice.\n",
      "\n",
      "7. Volunteer and give back: Find opportunities to use your skills and talents to help others. This can help you discover your purpose and feel fulfilled.\n",
      "\n",
      "8. Be open to change and growth: Your purpose may evolve over time, so be open to new experiences and opportunities that may lead you to discover your true calling.\n",
      "\n",
      "9. Trust your intuition: Listen to your inner voice and follow your heart. It can guide you towards your purpose.\n",
      "\n",
      "10. Be patient and persistent: Finding your purpose may take time and effort. Stay committed to your journey and trust that you will eventually uncover what you were meant to do.\n"
     ]
    }
   ],
   "source": [
    "no_rag_result = no_rag(\"How to discover what you were meant to do\")\n",
    "print(no_rag_result)"
   ]
  },
  {
   "cell_type": "code",
   "execution_count": 186,
   "id": "a12f17e1-1463-48d5-9d9f-97e585e32d4c",
   "metadata": {},
   "outputs": [
    {
     "name": "stdout",
     "output_type": "stream",
     "text": [
      "1. Awareness: To discover what you were meant to do, start by listening to your life and being aware of the signs it is giving you. Pay attention to your interests, passions, and experiences.\n",
      "\n",
      "2. Apprenticeship: Surround yourself with a supportive community and seek out mentors or accidental apprenticeships. Learn from others and allow your life to prepare you for your calling.\n",
      "\n",
      "3. Practice: Be open to learning new skills and embrace the challenges that come with real practice. Look for inspiration and guidance along the way.\n",
      "\n",
      "4. Discovery: Understand that discovering your calling is a process and doesn't happen in a single moment. Be patient and take gradual steps towards uncovering your purpose.\n",
      "\n",
      "5. Profession: Embrace failure as a learning opportunity and use it to grow and pivot around obstacles. Be open to change and adapt as you pursue your calling.\n",
      "\n",
      "Remember, finding your calling takes work and requires a lifetime of self-discovery and growth. Be open to change and embrace the journey as you uncover your unique purpose in life.\n",
      "CITATIONS: \n",
      "REF 1: book_name: The_Art_of_Work.pdf, page_num: 53, text: \"keep you from moving forward. And they never go away. But if you are going to find what you were meant to do, you will have to act anyway. What I am trying to say here is that a calling takes work. Finding yours will require a fear-facing journey that will last a lifetime. And where does it begin? With awareness. With discovering what your life is already saying to you. And as you attempt to uncover this mystery, consider one more question, a much more constructive one: What happens if you don’t do this? That’s what should really scare you. Your Life Is Speaking Many people wander through life, unaware of their purpose, blindly following the whims of the world. To them, those who reach their potential seem to possess an extraordinary gift. But what if pursuing your calling wasn’t a luxury reserved for the elite? What if it was required to live life, fully alive? Where would you start? Listen to your life. That’s Frederick Buechner’s advice. An author who spent part of his life as a schoolteacher and another part as a minister, he observed that finding your vocation is less about grand moments of discovery and more about a habit of awareness. “See it for the fathomless mystery it is,” he wrote. “In the boredom and pain of it no less than in the excitement and gladness: touch, taste, smell your way to the holy and hidden heart of it because in the\" \n",
      "\n",
      "REF 2: book_name: The_Art_of_Work.pdf, page_num: 51, text: \"be moving. We often think of a calling as something that comes to us, an epiphany that arrives when we least expect it. But the truth is, in some ways, it’s already come. You already have some sense of what you’re supposed to do with your life, even if you aren’t sure what it is. The trick is to find your vocation hidden in your life. That’s what I learned the moment I started thinking of myself as a writer. I went looking for answers and found that some of them were already in me. We all want to “just know” what we’re supposed to do with our lives, for our purpose to be spelled out for us, but that’s not how a calling works. It’s never clear and hardly ever obvious, especially when you’re starting out. But when you start to take those first steps, when you commit to some course of action, you begin to see what was there all along. Most of us have some sneaking suspicion that there must be more to life than this . We understand we each have a part to play in a bigger story. Even if we aren’t sure what that is, we know there’s something . Those “lucky” few who find their callings testify to this. They knew there was a purpose out there, and they were determined to find it. The way that they did this was by taking the first step, by overcoming the myth that “you just know” and deciding to act anyway. And they learned, as you might, an important lesson: clarity comes with action. At a certain point, you must acknowledge this nudge, the hint of a whisper that says life has been holding out on you.\" \n",
      "\n",
      "REF 3: book_name: The_Art_of_Work.pdf, page_num: 238, text: \"needs to be shared with other people. Now I want to offer some practical takeaways and challenges. The Seven Stages and Accompanying Lessons (Chapter Summary) 1. Awareness: Before you can tell your life what you want to do with it, you must listen to what it wants to do with you. 2. Apprenticeship: Every story of success is a story of community. Although mentors are hard to come by, accidental apprenticeships are everywhere. Your life is preparing you for what’s to come. 3. Practice: Real practice hurts. It takes not only time but intentional effort. But some things do come naturally. Be open to learning new skills, and watch for sparks of inspiration to guide you. 4. Discovery: Don’t take the leap; build a bridge. You never “just know” what you’re supposed to do with your life. Discovery happens in stages. 5. Profession: Failure is your best friend. Don’t push through obstacles; pivot around them. Let every mistake and rejection teach you something. Before a\" \n",
      "\n"
     ]
    }
   ],
   "source": [
    "(result, citations) = rag(\"How to discover what you were meant to do\")\n",
    "print(result)\n",
    "references = \"\"\n",
    "rid = 0\n",
    "for c in citations:\n",
    "    rid = rid + 1\n",
    "    reference = embeddings.search(f\"\"\"select text, page_num, book_name from txtai where id = {c[\"id\"]}\"\"\")[0]\n",
    "    references = references + \"\\n\" + f\"\"\"REF {rid}: book_name: {reference[\"book_name\"]}, page_num: {reference[\"page_num\"]}, text: \"{reference[\"text\"]}\" \\n\"\"\"\n",
    "print(f\"CITATIONS: {references}\")"
   ]
  },
  {
   "cell_type": "code",
   "execution_count": null,
   "id": "af9a804b-69d0-4cda-9fa4-ba04fd26d345",
   "metadata": {},
   "outputs": [],
   "source": []
  }
 ],
 "metadata": {
  "kernelspec": {
   "display_name": "Python 3 (ipykernel)",
   "language": "python",
   "name": "python3"
  },
  "language_info": {
   "codemirror_mode": {
    "name": "ipython",
    "version": 3
   },
   "file_extension": ".py",
   "mimetype": "text/x-python",
   "name": "python",
   "nbconvert_exporter": "python",
   "pygments_lexer": "ipython3",
   "version": "3.10.13"
  }
 },
 "nbformat": 4,
 "nbformat_minor": 5
}
