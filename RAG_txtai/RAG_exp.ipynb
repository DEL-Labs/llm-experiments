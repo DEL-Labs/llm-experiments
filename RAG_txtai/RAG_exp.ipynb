{
 "cells": [
  {
   "cell_type": "code",
   "execution_count": 4,
   "id": "f17b042d-8cca-4422-b9d5-39d672604c7f",
   "metadata": {},
   "outputs": [],
   "source": [
    "from txtai.embeddings import Embeddings\n",
    "from txtai.app import Application"
   ]
  },
  {
   "cell_type": "code",
   "execution_count": 8,
   "id": "d7541024-1b87-42a2-8daf-7e8a653dbff3",
   "metadata": {},
   "outputs": [],
   "source": [
    "config = Application.read(\"./app.yml\")\n",
    "embeddings = Embeddings(config[\"embeddings\"])\n",
    "\n",
    "# Can also use the config programmatically\n",
    "#embeddings = Embeddings({\n",
    "#    \"path\": \"sentence-transformers/all-MiniLM-L6-v2\",\n",
    "#    \"backend\": \"qdrant.Qdrant\",\n",
    "#})\n",
    "\n",
    "embeddings.index([(0, \"Correct\", None), (1, \"Not what we hoped\", None)])\n"
   ]
  },
  {
   "cell_type": "code",
   "execution_count": 10,
   "id": "7dc68f95-e478-4c44-9b23-92e94117aee0",
   "metadata": {},
   "outputs": [
    {
     "name": "stdout",
     "output_type": "stream",
     "text": [
      "[(0, 0.298620343208313), (1, 0.16438999772071838)]\n"
     ]
    }
   ],
   "source": [
    "result = embeddings.search(\"positive\", 2)\n",
    "print(result)"
   ]
  },
  {
   "cell_type": "code",
   "execution_count": null,
   "id": "dff4e57c-1272-4c5d-ae64-2105729caaf3",
   "metadata": {},
   "outputs": [],
   "source": []
  }
 ],
 "metadata": {
  "kernelspec": {
   "display_name": "Python 3 (ipykernel)",
   "language": "python",
   "name": "python3"
  },
  "language_info": {
   "codemirror_mode": {
    "name": "ipython",
    "version": 3
   },
   "file_extension": ".py",
   "mimetype": "text/x-python",
   "name": "python",
   "nbconvert_exporter": "python",
   "pygments_lexer": "ipython3",
   "version": "3.10.13"
  }
 },
 "nbformat": 4,
 "nbformat_minor": 5
}
